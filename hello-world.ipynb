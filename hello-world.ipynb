{
 "cells": [
  {
   "cell_type": "markdown",
   "metadata": {},
   "source": [
    "# Hello world! \n",
    "\n",
    "This is a sample notebook for use with the [quickstart for sharing assets][share-assets] on [AI Hub][ai-hub].\n",
    "\n",
    "[share-assets]: https://cloud.google.com/ai-hub/docs/private-hub-quickstart\n",
    "[ai-hub]: https://aihub.cloud.google.com/"
   ]
  },
  {
   "cell_type": "code",
   "execution_count": 1,
   "metadata": {},
   "outputs": [
    {
     "name": "stdout",
     "output_type": "stream",
     "text": [
      "Hello world!\n",
      "lets make a bunch of changes\n"
     ]
    }
   ],
   "source": [
    "print('Hello world!')\n",
    "print('let''s make a bunch of changes')\n",
    "\n"
   ]
  },
  {
   "cell_type": "markdown",
   "metadata": {},
   "source": [
    "## What's next\n",
    "\n",
    "- Learn more about [publishing notebooks on AI Hub][publish].\n",
    "- Understand important concepts and terms by reading the [introduction to AI Hub][concepts].\n",
    "- Learn how to [find and use a notebook][open] on AI Hub.\n",
    "\n",
    "[publish]: https://cloud.google.com/ai-hub/docs/publish-notebook\n",
    "[open]: https://cloud.google.com/ai-hub/docs/open-notebook\n",
    "[concepts]: https://cloud.google.com/ai-hub/docs/introduction"
   ]
  }
 ],
 "metadata": {
  "kernelspec": {
   "display_name": "Python 3",
   "language": "python",
   "name": "python3"
  },
  "language_info": {
   "codemirror_mode": {
    "name": "ipython",
    "version": 3
   },
   "file_extension": ".py",
   "mimetype": "text/x-python",
   "name": "python",
   "nbconvert_exporter": "python",
   "pygments_lexer": "ipython3",
   "version": "3.5.3"
  }
 },
 "nbformat": 4,
 "nbformat_minor": 2
}
